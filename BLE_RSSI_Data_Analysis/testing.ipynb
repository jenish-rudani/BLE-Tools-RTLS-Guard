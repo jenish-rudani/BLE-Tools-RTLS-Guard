{
 "cells": [
  {
   "cell_type": "code",
   "execution_count": 16,
   "metadata": {},
   "outputs": [
    {
     "name": "stdout",
     "output_type": "stream",
     "text": [
      "Median: -49\n",
      "Mean: -50.888888888888886\n",
      "Variance: 9.102564102564102\n"
     ]
    }
   ],
   "source": [
    "import statistics\n",
    "\n",
    "\n",
    "\n",
    "\n"
   ]
  },
  {
   "cell_type": "code",
   "execution_count": 18,
   "metadata": {},
   "outputs": [
    {
     "name": "stdout",
     "output_type": "stream",
     "text": [
      "Median: -49\n",
      "Mean: -50.888888888888886\n",
      "Variance: 9.102564102564102\n"
     ]
    }
   ],
   "source": [
    "a = [-49,    -56,    -48,    -56,    -49,    -49,    -54,    -49,    -54,    -48,    -54,    -49,    -48,    -54,    -49,    -54,    -49,    -54,    -48,    -54,    -49,    -54,    -49,    -48,    -54,    -47,    -48]\n",
    "\n",
    "print(\"Median: {}\".format(statistics.median(a)))\n",
    "print(\"Mean: {}\".format(statistics.mean(a)))\n",
    "print(\"Variance: {}\".format(statistics.variance(a)))\n"
   ]
  },
  {
   "cell_type": "code",
   "execution_count": 20,
   "metadata": {},
   "outputs": [
    {
     "name": "stdout",
     "output_type": "stream",
     "text": [
      "Median: -55.0\n",
      "Mean: -52.36\n",
      "Variance: 28.555959595959596\n"
     ]
    }
   ],
   "source": [
    "office1MeterThunderBoard = [-57,-45,-55,-57,-57,-45,-55,-57,-45,-55,-55,-57,-45,-55,-57,-45,-45,-55,-57,-45,-55,-57,-45,-55,-57,-45,-55,-57,-57,-45,-55,-57,-45,-55,-55,-57,-45,-55,-57,-45,-44,-55,-57,-44,-55,-57,-57,-45,-55,-57,-45,-55,-57,-57,-45,-55,-57,-45,-55,-55,-57,-45,-55,-57,-45,-45,-55,-57,-45,-55,-57,-45,-45,-55,-57,-44,-55,-57,-57,-44,-55,-57,-45,-55,-55,-57,-45,-55,-57,-45,-45,-55,-57,-55,-57,-57,-45,-55,-57,-45]\n",
    "\n",
    "print(\"Median: {}\".format(statistics.median(office1MeterThunderBoard)))\n",
    "print(\"Mean: {}\".format(statistics.mean(office1MeterThunderBoard)))\n",
    "print(\"Variance: {}\".format(statistics.variance(office1MeterThunderBoard)))"
   ]
  },
  {
   "cell_type": "code",
   "execution_count": null,
   "metadata": {},
   "outputs": [],
   "source": []
  }
 ],
 "metadata": {
  "language_info": {
   "name": "python"
  },
  "orig_nbformat": 4
 },
 "nbformat": 4,
 "nbformat_minor": 2
}
