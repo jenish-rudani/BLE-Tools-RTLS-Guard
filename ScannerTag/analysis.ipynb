{
 "cells": [
  {
   "cell_type": "code",
   "execution_count": 1,
   "metadata": {},
   "outputs": [
    {
     "data": {
      "text/html": [
       "<div>\n",
       "<style scoped>\n",
       "    .dataframe tbody tr th:only-of-type {\n",
       "        vertical-align: middle;\n",
       "    }\n",
       "\n",
       "    .dataframe tbody tr th {\n",
       "        vertical-align: top;\n",
       "    }\n",
       "\n",
       "    .dataframe thead th {\n",
       "        text-align: right;\n",
       "    }\n",
       "</style>\n",
       "<table border=\"1\" class=\"dataframe\">\n",
       "  <thead>\n",
       "    <tr style=\"text-align: right;\">\n",
       "      <th></th>\n",
       "      <th>Timestamp</th>\n",
       "      <th>mac</th>\n",
       "      <th>rssi</th>\n",
       "      <th>distance</th>\n",
       "    </tr>\n",
       "  </thead>\n",
       "  <tbody>\n",
       "    <tr>\n",
       "      <th>0</th>\n",
       "      <td>16:19:39</td>\n",
       "      <td>00:FA:B6:02:91:74</td>\n",
       "      <td>-39</td>\n",
       "      <td>0.896151</td>\n",
       "    </tr>\n",
       "    <tr>\n",
       "      <th>1</th>\n",
       "      <td>16:19:40</td>\n",
       "      <td>00:FA:B6:02:91:74</td>\n",
       "      <td>-29</td>\n",
       "      <td>0.517947</td>\n",
       "    </tr>\n",
       "    <tr>\n",
       "      <th>2</th>\n",
       "      <td>16:19:41</td>\n",
       "      <td>00:FA:B6:02:91:74</td>\n",
       "      <td>-30</td>\n",
       "      <td>0.547136</td>\n",
       "    </tr>\n",
       "    <tr>\n",
       "      <th>3</th>\n",
       "      <td>16:19:42</td>\n",
       "      <td>00:FA:B6:02:91:74</td>\n",
       "      <td>-32</td>\n",
       "      <td>0.610540</td>\n",
       "    </tr>\n",
       "    <tr>\n",
       "      <th>4</th>\n",
       "      <td>16:19:43</td>\n",
       "      <td>00:FA:B6:02:91:74</td>\n",
       "      <td>-30</td>\n",
       "      <td>0.547136</td>\n",
       "    </tr>\n",
       "  </tbody>\n",
       "</table>\n",
       "</div>"
      ],
      "text/plain": [
       "  Timestamp                mac  rssi  distance\n",
       "0  16:19:39  00:FA:B6:02:91:74   -39  0.896151\n",
       "1  16:19:40  00:FA:B6:02:91:74   -29  0.517947\n",
       "2  16:19:41  00:FA:B6:02:91:74   -30  0.547136\n",
       "3  16:19:42  00:FA:B6:02:91:74   -32  0.610540\n",
       "4  16:19:43  00:FA:B6:02:91:74   -30  0.547136"
      ]
     },
     "execution_count": 1,
     "metadata": {},
     "output_type": "execute_result"
    }
   ],
   "source": [
    "\n",
    "# Import pandas package\n",
    "import pandas as pd\n",
    "\n",
    "distance = 50\n",
    "orientation = 0\n",
    "\n",
    "fileName1 = \"./{}cm/{}_Degree/B1.csv\".format(distance, orientation)\n",
    "fileName2 = \"./{}cm/{}_Degree/B2.csv\".format(distance, orientation)\n",
    "\n",
    "# making data frame\n",
    "data = pd.read_csv(fileName1)\n",
    "\n",
    "# calling head() method\n",
    "# storing in new variable\n",
    "data_top = data.head()\n",
    "\n",
    "# display\n",
    "data_top\n"
   ]
  }
 ],
 "metadata": {
  "interpreter": {
   "hash": "27569b45974de3f0a6d34d66e3905bef328eb6d16444c6f051cd8a1ba8e7726b"
  },
  "kernelspec": {
   "display_name": "Python 3.10.4 ('Work')",
   "language": "python",
   "name": "python3"
  },
  "language_info": {
   "codemirror_mode": {
    "name": "ipython",
    "version": 3
   },
   "file_extension": ".py",
   "mimetype": "text/x-python",
   "name": "python",
   "nbconvert_exporter": "python",
   "pygments_lexer": "ipython3",
   "version": "3.10.4"
  },
  "orig_nbformat": 4
 },
 "nbformat": 4,
 "nbformat_minor": 2
}
